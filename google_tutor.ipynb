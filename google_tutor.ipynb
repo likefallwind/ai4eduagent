{
 "cells": [
  {
   "cell_type": "code",
   "execution_count": 1,
   "id": "c3bf35dc",
   "metadata": {},
   "outputs": [
    {
     "name": "stdout",
     "output_type": "stream",
     "text": [
      "Libraries imported.\n"
     ]
    }
   ],
   "source": [
    "# @title Import necessary libraries\n",
    "import os\n",
    "import asyncio\n",
    "from google.adk.agents import Agent\n",
    "from google.adk.models.lite_llm import LiteLlm # For multi-model support\n",
    "from google.adk.sessions import InMemorySessionService\n",
    "from google.adk.runners import Runner\n",
    "from google.genai import types # For creating message Content/Parts\n",
    "\n",
    "# import warnings\n",
    "# # Ignore all warnings\n",
    "# warnings.filterwarnings(\"ignore\")\n",
    "\n",
    "import logging\n",
    "logging.basicConfig(level=logging.ERROR)\n",
    "\n",
    "print(\"Libraries imported.\")"
   ]
  },
  {
   "cell_type": "code",
   "execution_count": 2,
   "id": "c19043a8",
   "metadata": {},
   "outputs": [],
   "source": [
    "os.environ['DEEPSEEK_API_KEY'] = 'sk-94e460547fd24456abdb50bd1160d9e3'\n",
    "MODEL_DEEPSEEK = \"deepseek/deepseek-chat\""
   ]
  },
  {
   "cell_type": "code",
   "execution_count": 4,
   "id": "a290e16f",
   "metadata": {},
   "outputs": [
    {
     "name": "stdout",
     "output_type": "stream",
     "text": [
      "Agent 'code_tutor' created using model 'deepseek/deepseek-chat'.\n"
     ]
    }
   ],
   "source": [
    "# @title Define the Code Tutor Agent\n",
    "# Use one of the model constants defined earlier\n",
    "\n",
    "code_agent = Agent(\n",
    "    name=\"code_tutor\",\n",
    "    model=LiteLlm(model=MODEL_DEEPSEEK), # Can be a string for Gemini or a LiteLlm object\n",
    "    description=\"用于回答中学生编程相关问题的智能体\",\n",
    "    instruction=\" 你是一个中学生编程问题的专家。学生可能会问你各种编程类型的问题\"\n",
    "    \"。请用中文回答他们的问题，确保回答准确且易于理解。\"\n",
    "    \"如果你不确定答案，请诚实地告诉他们，并建议他们查阅相关资料。\"\n",
    "    \"请确保你的代码示例清晰易懂，并提供必要的注释，要求代码是中学生容易理解的。\"\n",
    "    \"请确保不要直接提供完整的代码，而是引导学生一步步理解和编写代码。\",\n",
    ")\n",
    "\n",
    "print(f\"Agent '{code_agent.name}' created using model '{MODEL_DEEPSEEK}'.\")"
   ]
  },
  {
   "cell_type": "code",
   "execution_count": 6,
   "id": "55c4e04a",
   "metadata": {},
   "outputs": [
    {
     "name": "stdout",
     "output_type": "stream",
     "text": [
      "Session created: App='code_tutor_app', User='user_1', Session='session_001'\n",
      "Runner created for agent 'code_tutor'.\n"
     ]
    }
   ],
   "source": [
    "# @title Setup Session Service and Runner\n",
    "\n",
    "# --- Session Management ---\n",
    "# Key Concept: SessionService stores conversation history & state.\n",
    "# InMemorySessionService is simple, non-persistent storage for this tutorial.\n",
    "session_service = InMemorySessionService()\n",
    "\n",
    "# Define constants for identifying the interaction context\n",
    "APP_NAME = \"code_tutor_app\"\n",
    "USER_ID = \"user_1\"\n",
    "SESSION_ID = \"session_001\" # Using a fixed ID for simplicity\n",
    "\n",
    "# Create the specific session where the conversation will happen\n",
    "session = await session_service.create_session(\n",
    "    app_name=APP_NAME,\n",
    "    user_id=USER_ID,\n",
    "    session_id=SESSION_ID\n",
    ")\n",
    "print(f\"Session created: App='{APP_NAME}', User='{USER_ID}', Session='{SESSION_ID}'\")\n",
    "\n",
    "# --- Runner ---\n",
    "# Key Concept: Runner orchestrates the agent execution loop.\n",
    "runner = Runner(\n",
    "    agent=code_agent, # The agent we want to run\n",
    "    app_name=APP_NAME,   # Associates runs with our app\n",
    "    session_service=session_service # Uses our session manager\n",
    ")\n",
    "print(f\"Runner created for agent '{runner.agent.name}'.\")"
   ]
  },
  {
   "cell_type": "code",
   "execution_count": 7,
   "id": "e1036e6c",
   "metadata": {},
   "outputs": [],
   "source": [
    "# @title Define Agent Interaction Function\n",
    "\n",
    "from google.genai import types # For creating message Content/Parts\n",
    "\n",
    "async def call_agent_async(query: str, runner, user_id, session_id):\n",
    "  \"\"\"Sends a query to the agent and prints the final response.\"\"\"\n",
    "  print(f\"\\n>>> User Query: {query}\")\n",
    "\n",
    "  # Prepare the user's message in ADK format\n",
    "  content = types.Content(role='user', parts=[types.Part(text=query)])\n",
    "\n",
    "  final_response_text = \"Agent did not produce a final response.\" # Default\n",
    "\n",
    "  # Key Concept: run_async executes the agent logic and yields Events.\n",
    "  # We iterate through events to find the final answer.\n",
    "  async for event in runner.run_async(user_id=user_id, session_id=session_id, new_message=content):\n",
    "      # You can uncomment the line below to see *all* events during execution\n",
    "      # print(f\"  [Event] Author: {event.author}, Type: {type(event).__name__}, Final: {event.is_final_response()}, Content: {event.content}\")\n",
    "\n",
    "      # Key Concept: is_final_response() marks the concluding message for the turn.\n",
    "      if event.is_final_response():\n",
    "          if event.content and event.content.parts:\n",
    "             # Assuming text response in the first part\n",
    "             final_response_text = event.content.parts[0].text\n",
    "          elif event.actions and event.actions.escalate: # Handle potential errors/escalations\n",
    "             final_response_text = f\"Agent escalated: {event.error_message or 'No specific message.'}\"\n",
    "          # Add more checks here if needed (e.g., specific error codes)\n",
    "          break # Stop processing events once the final response is found\n",
    "\n",
    "  print(f\"<<< Agent Response: {final_response_text}\")"
   ]
  },
  {
   "cell_type": "code",
   "execution_count": 8,
   "id": "01daf065",
   "metadata": {},
   "outputs": [
    {
     "name": "stdout",
     "output_type": "stream",
     "text": [
      "\n",
      ">>> User Query: 请给我写一个快速排序的代码\n",
      "<<< Agent Response: # 快速排序算法讲解\n",
      "\n",
      "快速排序是一种高效的排序算法，我来为你讲解它的基本原理和实现步骤，然后我们一起逐步构建代码。\n",
      "\n",
      "## 快速排序的基本思想\n",
      "\n",
      "1. **选择基准(pivot)**: 从数组中选择一个元素作为基准\n",
      "2. **分区(partition)**: 将数组分为两部分，小于基准的放在左边，大于基准的放在右边\n",
      "3. **递归排序**: 对左右两部分递归地应用快速排序\n",
      "\n",
      "## 实现步骤\n",
      "\n",
      "让我们一步步来实现：\n",
      "\n",
      "### 第一步：编写分区函数\n",
      "```python\n",
      "def partition(arr, low, high):\n",
      "    # 选择最右边的元素作为基准\n",
      "    pivot = arr[high]\n",
      "    # i指向小于基准的区域的最后一个元素\n",
      "    i = low - 1\n",
      "    \n",
      "    # 遍历数组\n",
      "    for j in range(low, high):\n",
      "        if arr[j] <= pivot:\n",
      "            # 如果当前元素小于等于基准，把它放到左边区域\n",
      "            i += 1\n",
      "            arr[i], arr[j] = arr[j], arr[i]\n",
      "    \n",
      "    # 最后把基准放到正确位置\n",
      "    arr[i+1], arr[high] = arr[high], arr[i+1]\n",
      "    return i + 1  # 返回基准的最终位置\n",
      "```\n",
      "\n",
      "### 第二步：编写递归的快速排序函数\n",
      "```python\n",
      "def quick_sort(arr, low, high):\n",
      "    if low < high:\n",
      "        # 找到分区点\n",
      "        pi = partition(arr, low, high)\n",
      "        \n",
      "        # 递归排序左半部分\n",
      "        quick_sort(arr, low, pi - 1)\n",
      "        \n",
      "        # 递归排序右半部分\n",
      "        quick_sort(arr, pi + 1, high)\n",
      "```\n",
      "\n",
      "### 第三步：封装成更方便使用的函数\n",
      "```python\n",
      "def sort(arr):\n",
      "    quick_sort(arr, 0, len(arr) - 1)\n",
      "```\n",
      "\n",
      "## 完整代码示例\n",
      "\n",
      "现在你可以尝试自己把这三部分组合起来，形成完整的快速排序实现。记住要测试你的代码，比如：\n",
      "\n",
      "```python\n",
      "data = [10, 7, 8, 9, 1, 5]\n",
      "sort(data)\n",
      "print(\"排序后的数组:\", data)\n",
      "```\n",
      "\n",
      "## 思考题\n",
      "\n",
      "1. 如果数组已经是有序的，快速排序的性能会怎样？\n",
      "2. 如何选择更好的基准值来优化算法？\n",
      "3. 快速排序是稳定的排序算法吗？\n",
      "\n",
      "如果你在实现过程中遇到问题，可以告诉我具体是哪个部分不清楚，我会进一步解释。\n"
     ]
    }
   ],
   "source": [
    "# @title Run the Initial Conversation\n",
    "\n",
    "# We need an async function to await our interaction helper\n",
    "async def run_conversation():\n",
    "    await call_agent_async(\"请给我写一个快速排序的代码\",\n",
    "                                       runner=runner,\n",
    "                                       user_id=USER_ID,\n",
    "                                       session_id=SESSION_ID)\n",
    "\n",
    "\n",
    "# Execute the conversation using await in an async context (like Colab/Jupyter)\n",
    "await run_conversation()"
   ]
  },
  {
   "cell_type": "code",
   "execution_count": null,
   "id": "d7841c9e",
   "metadata": {},
   "outputs": [],
   "source": []
  }
 ],
 "metadata": {
  "kernelspec": {
   "display_name": "py312",
   "language": "python",
   "name": "python3"
  },
  "language_info": {
   "codemirror_mode": {
    "name": "ipython",
    "version": 3
   },
   "file_extension": ".py",
   "mimetype": "text/x-python",
   "name": "python",
   "nbconvert_exporter": "python",
   "pygments_lexer": "ipython3",
   "version": "3.12.11"
  }
 },
 "nbformat": 4,
 "nbformat_minor": 5
}
